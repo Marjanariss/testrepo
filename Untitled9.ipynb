{
 "cells": [
  {
   "cell_type": "code",
   "execution_count": 1,
   "id": "30c8aaed",
   "metadata": {},
   "outputs": [
    {
     "name": "stdout",
     "output_type": "stream",
     "text": [
      "please a number: 8\n",
      "please a number: 8\n"
     ]
    }
   ],
   "source": [
    "x=  int(input(\"please a number: \"))\n",
    "y = int(input(\"please a number: \"))"
   ]
  },
  {
   "cell_type": "code",
   "execution_count": 3,
   "id": "b4c4e24b",
   "metadata": {},
   "outputs": [
    {
     "name": "stdout",
     "output_type": "stream",
     "text": [
      "please a number: 9\n",
      "please a number: 15\n",
      "9\n",
      "10\n",
      "11\n",
      "12\n",
      "13\n",
      "14\n"
     ]
    }
   ],
   "source": [
    "x=  int(input(\"please a number: \"))\n",
    "y = int(input(\"please a number: \"))\n",
    "if x>y :\n",
    "    while y<x :\n",
    "        print(y)\n",
    "        y+=1\n",
    "else:\n",
    "    while x<y:\n",
    "        print(x)\n",
    "        x+=1"
   ]
  },
  {
   "cell_type": "code",
   "execution_count": 4,
   "id": "c609b24c",
   "metadata": {},
   "outputs": [
    {
     "name": "stdout",
     "output_type": "stream",
     "text": [
      "please a number: 3\n",
      "please a number: 9\n",
      "3\n",
      "4\n",
      "5\n",
      "6\n",
      "7\n",
      "8\n"
     ]
    }
   ],
   "source": [
    "x=  int(input(\"please a number: \"))\n",
    "y = int(input(\"please a number: \"))\n",
    "if x>y :\n",
    "    temp=x\n",
    "    x=y\n",
    "    y=temp\n",
    "while x<y :\n",
    "    print(x)\n",
    "    x+=1\n",
    "    "
   ]
  },
  {
   "cell_type": "code",
   "execution_count": 6,
   "id": "7d4a77c1",
   "metadata": {},
   "outputs": [
    {
     "name": "stdout",
     "output_type": "stream",
     "text": [
      "please a number: 7\n",
      "please a number: 3\n",
      "3\n",
      "4\n",
      "5\n",
      "6\n"
     ]
    }
   ],
   "source": [
    "x=  int(input(\"please a number: \"))\n",
    "y = int(input(\"please a number: \"))\n",
    "if x>y :\n",
    "   x ,y  = y , x\n",
    "while x<y :\n",
    "    print(x)\n",
    "    x+=1\n",
    "    "
   ]
  },
  {
   "cell_type": "code",
   "execution_count": 7,
   "id": "a526dd6e",
   "metadata": {},
   "outputs": [
    {
     "name": "stdout",
     "output_type": "stream",
     "text": [
      "please a number: 8\n",
      "*\n"
     ]
    }
   ],
   "source": [
    "x=  int(input(\"please a number: \"))\n",
    "print(\"*\")"
   ]
  },
  {
   "cell_type": "code",
   "execution_count": 10,
   "id": "ce646b03",
   "metadata": {},
   "outputs": [
    {
     "name": "stdout",
     "output_type": "stream",
     "text": [
      "please a number: 8\n",
      "********\n"
     ]
    }
   ],
   "source": [
    "x=  int(input(\"please a number: \"))\n",
    "print(x*\"*\")"
   ]
  },
  {
   "cell_type": "code",
   "execution_count": 12,
   "id": "4d59679a",
   "metadata": {},
   "outputs": [
    {
     "name": "stdout",
     "output_type": "stream",
     "text": [
      "please a number: 7\n",
      "*******\n"
     ]
    }
   ],
   "source": [
    "x=  int(input(\"please a number: \"))\n",
    "i=0\n",
    "_str=\"\"\n",
    "    \n",
    "while i<x:\n",
    "    _str+=\"*\"\n",
    "\n",
    "    i+=1\n",
    "print(_str)"
   ]
  },
  {
   "cell_type": "code",
   "execution_count": 13,
   "id": "4954ed75",
   "metadata": {},
   "outputs": [
    {
     "name": "stdout",
     "output_type": "stream",
     "text": [
      "please a number: 5\n",
      "*****"
     ]
    }
   ],
   "source": [
    "x=  int(input(\"please a number: \"))\n",
    "i=0\n",
    "\n",
    "    \n",
    "while i<x:\n",
    "    print(\"*\",end=\"\")\n",
    "   \n",
    "    i+=1\n"
   ]
  },
  {
   "cell_type": "code",
   "execution_count": 22,
   "id": "5c092b4a",
   "metadata": {},
   "outputs": [
    {
     "name": "stdout",
     "output_type": "stream",
     "text": [
      "please a number: 5\n",
      "15\n"
     ]
    }
   ],
   "source": [
    "x=  int(input(\"please a number: \"))\n",
    "i=0\n",
    "j=0\n",
    "c=0\n",
    "while i<=x:\n",
    "      c=(j+c)\n",
    "      i+=1\n",
    "      j+=1\n",
    "        \n",
    "print(c) \n",
    "\n",
    "    "
   ]
  },
  {
   "cell_type": "code",
   "execution_count": null,
   "id": "a4874a53",
   "metadata": {},
   "outputs": [],
   "source": [
    "x=  int(input(\"please a number: \"))\n",
    "if x<0:\n",
    "    print ( \" please a adad mosbat\")\n",
    "else:    \n",
    "    i = 0\n",
    "    t = 0\n",
    "    while i<x:\n",
    "        t+=i\n",
    "        i+=1\n",
    "print(t)\n",
    "    "
   ]
  },
  {
   "cell_type": "code",
   "execution_count": null,
   "id": "7a5de528",
   "metadata": {},
   "outputs": [],
   "source": [
    "x=  int(input(\"please a number: \"))\n",
    "if x<0:\n",
    "    print ( \" please a adad mosbat\")\n",
    "else:    \n",
    "    i = 0\n",
    "    t = 0\n",
    "    while i<x:\n",
    "        t+=i\n",
    "        i+=1\n",
    "    print(t)\n",
    "    "
   ]
  },
  {
   "cell_type": "code",
   "execution_count": null,
   "id": "1bcb2f72",
   "metadata": {},
   "outputs": [],
   "source": []
  }
 ],
 "metadata": {
  "kernelspec": {
   "display_name": "Python 3 (ipykernel)",
   "language": "python",
   "name": "python3"
  },
  "language_info": {
   "codemirror_mode": {
    "name": "ipython",
    "version": 3
   },
   "file_extension": ".py",
   "mimetype": "text/x-python",
   "name": "python",
   "nbconvert_exporter": "python",
   "pygments_lexer": "ipython3",
   "version": "3.10.9"
  }
 },
 "nbformat": 4,
 "nbformat_minor": 5
}
